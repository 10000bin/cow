{
 "cells": [
  {
   "cell_type": "code",
   "execution_count": 1,
   "id": "3ad2e9f0-43b2-4bce-a41a-20377ed31301",
   "metadata": {},
   "outputs": [],
   "source": [
    "import pandas as pd\n",
    "import matplotlib.pyplot as plt\n",
    "from statsmodels.tsa.statespace.sarimax import SARIMAX"
   ]
  },
  {
   "cell_type": "code",
   "execution_count": 6,
   "id": "1e462116-1e5a-4f54-874a-7a2dc4f062bd",
   "metadata": {},
   "outputs": [
    {
     "data": {
      "text/html": [
       "<div>\n",
       "<style scoped>\n",
       "    .dataframe tbody tr th:only-of-type {\n",
       "        vertical-align: middle;\n",
       "    }\n",
       "\n",
       "    .dataframe tbody tr th {\n",
       "        vertical-align: top;\n",
       "    }\n",
       "\n",
       "    .dataframe thead th {\n",
       "        text-align: right;\n",
       "    }\n",
       "</style>\n",
       "<table border=\"1\" class=\"dataframe\">\n",
       "  <thead>\n",
       "    <tr style=\"text-align: right;\">\n",
       "      <th></th>\n",
       "      <th>date</th>\n",
       "      <th>price</th>\n",
       "      <th>datetime</th>\n",
       "    </tr>\n",
       "  </thead>\n",
       "  <tbody>\n",
       "    <tr>\n",
       "      <th>0</th>\n",
       "      <td>13-Jan</td>\n",
       "      <td>14498.31766</td>\n",
       "      <td>2013-01</td>\n",
       "    </tr>\n",
       "    <tr>\n",
       "      <th>1</th>\n",
       "      <td>13-Feb</td>\n",
       "      <td>13396.67663</td>\n",
       "      <td>2013-02</td>\n",
       "    </tr>\n",
       "    <tr>\n",
       "      <th>2</th>\n",
       "      <td>13-Mar</td>\n",
       "      <td>12914.19227</td>\n",
       "      <td>2013-03</td>\n",
       "    </tr>\n",
       "    <tr>\n",
       "      <th>3</th>\n",
       "      <td>13-Apr</td>\n",
       "      <td>12780.23766</td>\n",
       "      <td>2013-04</td>\n",
       "    </tr>\n",
       "    <tr>\n",
       "      <th>4</th>\n",
       "      <td>13-May</td>\n",
       "      <td>12340.69142</td>\n",
       "      <td>2013-05</td>\n",
       "    </tr>\n",
       "    <tr>\n",
       "      <th>...</th>\n",
       "      <td>...</td>\n",
       "      <td>...</td>\n",
       "      <td>...</td>\n",
       "    </tr>\n",
       "    <tr>\n",
       "      <th>127</th>\n",
       "      <td>23-Aug</td>\n",
       "      <td>14315.10509</td>\n",
       "      <td>2023-08</td>\n",
       "    </tr>\n",
       "    <tr>\n",
       "      <th>128</th>\n",
       "      <td>23-Sep</td>\n",
       "      <td>15991.13868</td>\n",
       "      <td>2023-09</td>\n",
       "    </tr>\n",
       "    <tr>\n",
       "      <th>129</th>\n",
       "      <td>23-Oct</td>\n",
       "      <td>14802.68385</td>\n",
       "      <td>2023-10</td>\n",
       "    </tr>\n",
       "    <tr>\n",
       "      <th>130</th>\n",
       "      <td>23-Nov</td>\n",
       "      <td>14399.18353</td>\n",
       "      <td>2023-11</td>\n",
       "    </tr>\n",
       "    <tr>\n",
       "      <th>131</th>\n",
       "      <td>23-Dec</td>\n",
       "      <td>13009.84654</td>\n",
       "      <td>2023-12</td>\n",
       "    </tr>\n",
       "  </tbody>\n",
       "</table>\n",
       "<p>132 rows × 3 columns</p>\n",
       "</div>"
      ],
      "text/plain": [
       "       date        price datetime\n",
       "0    13-Jan  14498.31766  2013-01\n",
       "1    13-Feb  13396.67663  2013-02\n",
       "2    13-Mar  12914.19227  2013-03\n",
       "3    13-Apr  12780.23766  2013-04\n",
       "4    13-May  12340.69142  2013-05\n",
       "..      ...          ...      ...\n",
       "127  23-Aug  14315.10509  2023-08\n",
       "128  23-Sep  15991.13868  2023-09\n",
       "129  23-Oct  14802.68385  2023-10\n",
       "130  23-Nov  14399.18353  2023-11\n",
       "131  23-Dec  13009.84654  2023-12\n",
       "\n",
       "[132 rows x 3 columns]"
      ]
     },
     "execution_count": 6,
     "metadata": {},
     "output_type": "execute_result"
    }
   ],
   "source": [
    "# 데이터 불러오기 및 전처리\n",
    "df=pd.read_csv('cow.csv')\n",
    "df.rename(columns={'경락일자':'date'},inplace=True)\n",
    "df.rename(columns={'1':'price'},inplace=True)\n",
    "df['datetime'] = df['date'].apply(lambda x: pd.to_datetime(f\"20{x}\", format='%Y-%b'))\n",
    "df['datetime']=df['datetime'].dt.strftime('%Y-%m')\n",
    "df"
   ]
  },
  {
   "cell_type": "code",
   "execution_count": 13,
   "id": "da02e124-b534-4622-b7b2-0b66a0186f9c",
   "metadata": {},
   "outputs": [
    {
     "name": "stdout",
     "output_type": "stream",
     "text": [
      "                                     SARIMAX Results                                      \n",
      "==========================================================================================\n",
      "Dep. Variable:                              price   No. Observations:                  132\n",
      "Model:             SARIMAX(1, 0, 0)x(1, 0, 0, 12)   Log Likelihood               -1058.025\n",
      "Date:                            Wed, 21 Aug 2024   AIC                           2122.050\n",
      "Time:                                    22:39:35   BIC                           2130.698\n",
      "Sample:                                         0   HQIC                          2125.564\n",
      "                                            - 132                                         \n",
      "Covariance Type:                              opg                                         \n",
      "==============================================================================\n",
      "                 coef    std err          z      P>|z|      [0.025      0.975]\n",
      "------------------------------------------------------------------------------\n",
      "ar.L1          0.9972      0.006    178.040      0.000       0.986       1.008\n",
      "ar.S.L12       0.3392      0.082      4.118      0.000       0.178       0.501\n",
      "sigma2       5.07e+05   6.75e+04      7.506      0.000    3.75e+05    6.39e+05\n",
      "===================================================================================\n",
      "Ljung-Box (L1) (Q):                   1.44   Jarque-Bera (JB):                 0.80\n",
      "Prob(Q):                              0.23   Prob(JB):                         0.67\n",
      "Heteroskedasticity (H):               1.62   Skew:                             0.14\n",
      "Prob(H) (two-sided):                  0.11   Kurtosis:                         2.74\n",
      "===================================================================================\n",
      "\n",
      "Warnings:\n",
      "[1] Covariance matrix calculated using the outer product of gradients (complex-step).\n"
     ]
    }
   ],
   "source": [
    "model = SARIMAX(df['price'], \n",
    "                order=(1, 0, 0),    # ARIMA의 (p, d, q)\n",
    "                seasonal_order=(1, 0, 0, 12))  # 계절적 (P, D, Q, m)\n",
    "model_fit = model.fit(disp=False)\n",
    "print(model_fit.summary())"
   ]
  },
  {
   "cell_type": "code",
   "execution_count": 8,
   "id": "4e7b1217-8d82-4dfe-bd3d-ebabf82971d7",
   "metadata": {},
   "outputs": [],
   "source": [
    "# 미래 예측 수행 (12개월 예측)\n",
    "forecast = model_fit.get_forecast(steps=12)\n",
    "forecast_values = forecast.predicted_mean\n",
    "conf_int = forecast.conf_int()"
   ]
  },
  {
   "cell_type": "code",
   "execution_count": 11,
   "id": "004ff1de-99f6-489a-9c26-8c3c37804195",
   "metadata": {},
   "outputs": [],
   "source": [
    "forecast_df = pd.DataFrame({\n",
    "    'Forecast': forecast_values,\n",
    "    'Conf_int_low': conf_int.iloc[:, 0],\n",
    "    'Conf_int_high': conf_int.iloc[:, 1]\n",
    "})"
   ]
  },
  {
   "cell_type": "code",
   "execution_count": 12,
   "id": "b9cb8661-f5ea-458e-b25c-27bf1ac9318b",
   "metadata": {},
   "outputs": [
    {
     "name": "stdout",
     "output_type": "stream",
     "text": [
      "         Forecast  Conf_int_low  Conf_int_high\n",
      "132  12797.141817  11401.580238   14192.703397\n",
      "133  13070.488342  11099.588248   15041.388436\n",
      "134  12954.127630  10543.603960   15364.651301\n",
      "135  12616.369570   9836.768422   15395.970719\n",
      "136  12173.760627   9070.346336   15277.174919\n",
      "137  12419.604705   9024.656143   15814.553267\n",
      "138  12519.851153   8857.921761   16181.780544\n",
      "139  12948.332862   9038.935052   16857.730672\n",
      "140  13494.521424   9353.660873   17635.381975\n",
      "141  13069.110182   8710.235509   17427.984855\n",
      "142  12910.024396   8344.650939   17475.397853\n",
      "143  12416.594841   7654.733694   17178.455988\n"
     ]
    }
   ],
   "source": [
    "print(forecast_df)\n"
   ]
  },
  {
   "cell_type": "code",
   "execution_count": null,
   "id": "6b11f8e6-b105-4317-8825-cfa976d16592",
   "metadata": {},
   "outputs": [],
   "source": [
    "#신뢰구간이 자꾸 넓어짐"
   ]
  }
 ],
 "metadata": {
  "kernelspec": {
   "display_name": "Python 3 (ipykernel)",
   "language": "python",
   "name": "python3"
  },
  "language_info": {
   "codemirror_mode": {
    "name": "ipython",
    "version": 3
   },
   "file_extension": ".py",
   "mimetype": "text/x-python",
   "name": "python",
   "nbconvert_exporter": "python",
   "pygments_lexer": "ipython3",
   "version": "3.11.4"
  }
 },
 "nbformat": 4,
 "nbformat_minor": 5
}
